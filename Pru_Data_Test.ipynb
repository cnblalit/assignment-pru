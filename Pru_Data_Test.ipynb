{
 "cells": [
  {
   "cell_type": "markdown",
   "metadata": {
    "run_control": {
     "marked": true
    }
   },
   "source": [
    "# Pru Wealth Data Test\n",
    "\n",
    "Below we will explore a mock database of customers, policies and funds that are similar to the Pru Wealth data. The first section of this notebook will test your SQL skills, the second section will test your Python skills and visualisation skills.\n",
    "\n",
    "The database file is called Prudential_Data.db\n",
    "\n",
    "The three tables included in this database are:\n",
    "* Customer_Table\n",
    "* Policy_Table\n",
    "* Fund_Table\n",
    "\n",
    "You will need to have the following packages installed in your Python environment:\n",
    "* numpy\n",
    "* pandas\n",
    "* sqlite3\n",
    "\n",
    "For visualization use any package of your choice (e.g., matplotlib, seaborn, plotly).\n",
    "\n",
    "Please complete and return the test before the deadline by emailing your copy of this notebook to: Denholm.Hesse@Prudential.co.uk. If you do not know the answer to a question feel free to use Google and Stack Overflow. This is to give you the option to teach yourself a concept from the internet to address a question which you do not know the answer to, please refrain from skipping questions. The test is meant to be completed by you only.\n",
    "\n",
    "Good luck and have fun!"
   ]
  },
  {
   "cell_type": "code",
   "execution_count": 1,
   "metadata": {
    "run_control": {
     "marked": true
    }
   },
   "outputs": [],
   "source": [
    "import numpy as np\n",
    "import pandas as pd\n",
    "import sqlite3"
   ]
  },
  {
   "cell_type": "markdown",
   "metadata": {
    "run_control": {
     "marked": true
    }
   },
   "source": [
    "# SQL test\n",
    "\n",
    "IMPORANT: Please make sure all questions in this section are solved using SQL by only editing the content of the variable *sqlite_query*. Please do not edit the below cell:"
   ]
  },
  {
   "cell_type": "code",
   "execution_count": 2,
   "metadata": {
    "run_control": {
     "marked": true
    }
   },
   "outputs": [],
   "source": [
    "# Establish DB connection\n",
    "conn = sqlite3.connect('Prudential_Data.db')"
   ]
  },
  {
   "cell_type": "markdown",
   "metadata": {},
   "source": [
    "Below is an example of how to query the SQLlite databse from this Jupyter notebook. Please note that SQLlite might have a slightly different syntax from the SQL you normally use. Please do not edit the below cell:"
   ]
  },
  {
   "cell_type": "code",
   "execution_count": 3,
   "metadata": {},
   "outputs": [
    {
     "data": {
      "text/html": [
       "<div>\n",
       "<style scoped>\n",
       "    .dataframe tbody tr th:only-of-type {\n",
       "        vertical-align: middle;\n",
       "    }\n",
       "\n",
       "    .dataframe tbody tr th {\n",
       "        vertical-align: top;\n",
       "    }\n",
       "\n",
       "    .dataframe thead th {\n",
       "        text-align: right;\n",
       "    }\n",
       "</style>\n",
       "<table border=\"1\" class=\"dataframe\">\n",
       "  <thead>\n",
       "    <tr style=\"text-align: right;\">\n",
       "      <th></th>\n",
       "      <th>COUNT(*)</th>\n",
       "    </tr>\n",
       "  </thead>\n",
       "  <tbody>\n",
       "    <tr>\n",
       "      <th>0</th>\n",
       "      <td>1635</td>\n",
       "    </tr>\n",
       "  </tbody>\n",
       "</table>\n",
       "</div>"
      ],
      "text/plain": [
       "   COUNT(*)\n",
       "0      1635"
      ]
     },
     "execution_count": 3,
     "metadata": {},
     "output_type": "execute_result"
    }
   ],
   "source": [
    "sqlite_query = \"\"\"\n",
    "SELECT COUNT(*) \n",
    "from policy_table \n",
    "\"\"\"\n",
    "\n",
    "pd.read_sql(sqlite_query, conn)"
   ]
  },
  {
   "cell_type": "markdown",
   "metadata": {
    "run_control": {
     "marked": true
    }
   },
   "source": [
    "The first table \"Customer_Table\" contains personal information about the customers. Please do not edit the below cell:"
   ]
  },
  {
   "cell_type": "code",
   "execution_count": 4,
   "metadata": {
    "run_control": {
     "marked": true
    }
   },
   "outputs": [
    {
     "data": {
      "text/html": [
       "<div>\n",
       "<style scoped>\n",
       "    .dataframe tbody tr th:only-of-type {\n",
       "        vertical-align: middle;\n",
       "    }\n",
       "\n",
       "    .dataframe tbody tr th {\n",
       "        vertical-align: top;\n",
       "    }\n",
       "\n",
       "    .dataframe thead th {\n",
       "        text-align: right;\n",
       "    }\n",
       "</style>\n",
       "<table border=\"1\" class=\"dataframe\">\n",
       "  <thead>\n",
       "    <tr style=\"text-align: right;\">\n",
       "      <th></th>\n",
       "      <th>index</th>\n",
       "      <th>Customer ID</th>\n",
       "      <th>Email</th>\n",
       "      <th>Gender</th>\n",
       "      <th>Age</th>\n",
       "      <th>Postcode</th>\n",
       "    </tr>\n",
       "  </thead>\n",
       "  <tbody>\n",
       "    <tr>\n",
       "      <th>0</th>\n",
       "      <td>0</td>\n",
       "      <td>CO183683</td>\n",
       "      <td>NLUPPITT14@PARALLELS.COM</td>\n",
       "      <td>Male</td>\n",
       "      <td>90</td>\n",
       "      <td>None</td>\n",
       "    </tr>\n",
       "    <tr>\n",
       "      <th>1</th>\n",
       "      <td>1</td>\n",
       "      <td>CO314757</td>\n",
       "      <td>None</td>\n",
       "      <td>Female</td>\n",
       "      <td>90</td>\n",
       "      <td>None</td>\n",
       "    </tr>\n",
       "    <tr>\n",
       "      <th>2</th>\n",
       "      <td>2</td>\n",
       "      <td>CO720602</td>\n",
       "      <td>None</td>\n",
       "      <td>Female</td>\n",
       "      <td>90</td>\n",
       "      <td>None</td>\n",
       "    </tr>\n",
       "    <tr>\n",
       "      <th>3</th>\n",
       "      <td>3</td>\n",
       "      <td>CO34804</td>\n",
       "      <td>None</td>\n",
       "      <td>Female</td>\n",
       "      <td>90</td>\n",
       "      <td>1495-701</td>\n",
       "    </tr>\n",
       "    <tr>\n",
       "      <th>4</th>\n",
       "      <td>4</td>\n",
       "      <td>CO474411</td>\n",
       "      <td>None</td>\n",
       "      <td>Male</td>\n",
       "      <td>90</td>\n",
       "      <td>301288</td>\n",
       "    </tr>\n",
       "  </tbody>\n",
       "</table>\n",
       "</div>"
      ],
      "text/plain": [
       "   index Customer ID                     Email  Gender  Age  Postcode\n",
       "0      0    CO183683  NLUPPITT14@PARALLELS.COM    Male   90      None\n",
       "1      1    CO314757                      None  Female   90      None\n",
       "2      2    CO720602                      None  Female   90      None\n",
       "3      3     CO34804                      None  Female   90  1495-701\n",
       "4      4    CO474411                      None    Male   90    301288"
      ]
     },
     "execution_count": 4,
     "metadata": {},
     "output_type": "execute_result"
    }
   ],
   "source": [
    "sqlite_query = \"\"\"\n",
    "SELECT * \n",
    "from Customer_Table \n",
    "limit 5\n",
    "\"\"\"\n",
    "\n",
    "pd.read_sql(sqlite_query, conn)"
   ]
  },
  {
   "cell_type": "markdown",
   "metadata": {},
   "source": [
    "The second table \"Policy_Table\" contains data relating to customer policies. The policy value is the current value of the policy. Please do not edit the below cell:"
   ]
  },
  {
   "cell_type": "code",
   "execution_count": 5,
   "metadata": {},
   "outputs": [
    {
     "data": {
      "text/html": [
       "<div>\n",
       "<style scoped>\n",
       "    .dataframe tbody tr th:only-of-type {\n",
       "        vertical-align: middle;\n",
       "    }\n",
       "\n",
       "    .dataframe tbody tr th {\n",
       "        vertical-align: top;\n",
       "    }\n",
       "\n",
       "    .dataframe thead th {\n",
       "        text-align: right;\n",
       "    }\n",
       "</style>\n",
       "<table border=\"1\" class=\"dataframe\">\n",
       "  <thead>\n",
       "    <tr style=\"text-align: right;\">\n",
       "      <th></th>\n",
       "      <th>index</th>\n",
       "      <th>Policy Number</th>\n",
       "      <th>Customer ID</th>\n",
       "      <th>Product Category</th>\n",
       "      <th>Product Name</th>\n",
       "      <th>Policy Value</th>\n",
       "      <th>Policy Start Date</th>\n",
       "    </tr>\n",
       "  </thead>\n",
       "  <tbody>\n",
       "    <tr>\n",
       "      <th>0</th>\n",
       "      <td>0</td>\n",
       "      <td>RET100072</td>\n",
       "      <td>CO276506</td>\n",
       "      <td>RETIREMENT</td>\n",
       "      <td>RETIREMENT ACCOUNT</td>\n",
       "      <td>270033.0</td>\n",
       "      <td>2016-01-02 00:00:00</td>\n",
       "    </tr>\n",
       "    <tr>\n",
       "      <th>1</th>\n",
       "      <td>1</td>\n",
       "      <td>RET100931</td>\n",
       "      <td>CO831289</td>\n",
       "      <td>RETIREMENT</td>\n",
       "      <td>RETIREMENT ACCOUNT</td>\n",
       "      <td>26394.0</td>\n",
       "      <td>2016-01-04 00:00:00</td>\n",
       "    </tr>\n",
       "    <tr>\n",
       "      <th>2</th>\n",
       "      <td>2</td>\n",
       "      <td>RET100682</td>\n",
       "      <td>CO784249</td>\n",
       "      <td>RETIREMENT</td>\n",
       "      <td>RETIREMENT ACCOUNT</td>\n",
       "      <td>773567.0</td>\n",
       "      <td>2016-01-04 00:00:00</td>\n",
       "    </tr>\n",
       "    <tr>\n",
       "      <th>3</th>\n",
       "      <td>3</td>\n",
       "      <td>RET100447</td>\n",
       "      <td>CO295533</td>\n",
       "      <td>RETIREMENT</td>\n",
       "      <td>RETIREMENT ACCOUNT</td>\n",
       "      <td>35512.0</td>\n",
       "      <td>2016-01-07 00:00:00</td>\n",
       "    </tr>\n",
       "    <tr>\n",
       "      <th>4</th>\n",
       "      <td>4</td>\n",
       "      <td>RET100390</td>\n",
       "      <td>CO901735</td>\n",
       "      <td>RETIREMENT</td>\n",
       "      <td>RETIREMENT ACCOUNT</td>\n",
       "      <td>767580.0</td>\n",
       "      <td>2016-01-08 00:00:00</td>\n",
       "    </tr>\n",
       "  </tbody>\n",
       "</table>\n",
       "</div>"
      ],
      "text/plain": [
       "   index Policy Number Customer ID Product Category        Product Name  \\\n",
       "0      0     RET100072    CO276506       RETIREMENT  RETIREMENT ACCOUNT   \n",
       "1      1     RET100931    CO831289       RETIREMENT  RETIREMENT ACCOUNT   \n",
       "2      2     RET100682    CO784249       RETIREMENT  RETIREMENT ACCOUNT   \n",
       "3      3     RET100447    CO295533       RETIREMENT  RETIREMENT ACCOUNT   \n",
       "4      4     RET100390    CO901735       RETIREMENT  RETIREMENT ACCOUNT   \n",
       "\n",
       "   Policy Value    Policy Start Date  \n",
       "0      270033.0  2016-01-02 00:00:00  \n",
       "1       26394.0  2016-01-04 00:00:00  \n",
       "2      773567.0  2016-01-04 00:00:00  \n",
       "3       35512.0  2016-01-07 00:00:00  \n",
       "4      767580.0  2016-01-08 00:00:00  "
      ]
     },
     "execution_count": 5,
     "metadata": {},
     "output_type": "execute_result"
    }
   ],
   "source": [
    "sqlite_query = \"\"\"\n",
    "SELECT * \n",
    "from Policy_Table \n",
    "limit 5\n",
    "\"\"\"\n",
    "\n",
    "pd.read_sql(sqlite_query, conn)"
   ]
  },
  {
   "cell_type": "markdown",
   "metadata": {},
   "source": [
    "The final table \"Fund_Table\" contains historic data on the Policy Value (Policy_Value_Snapshot). The Policy_Value_Snapshot represents the value of the policy and the Date column is the date at which that value was recorded. The value may have changed overtime due to changes in the fund price or quanity of units the policy was invested in. Please do not edit the below cell:"
   ]
  },
  {
   "cell_type": "code",
   "execution_count": 6,
   "metadata": {},
   "outputs": [
    {
     "data": {
      "text/html": [
       "<div>\n",
       "<style scoped>\n",
       "    .dataframe tbody tr th:only-of-type {\n",
       "        vertical-align: middle;\n",
       "    }\n",
       "\n",
       "    .dataframe tbody tr th {\n",
       "        vertical-align: top;\n",
       "    }\n",
       "\n",
       "    .dataframe thead th {\n",
       "        text-align: right;\n",
       "    }\n",
       "</style>\n",
       "<table border=\"1\" class=\"dataframe\">\n",
       "  <thead>\n",
       "    <tr style=\"text-align: right;\">\n",
       "      <th></th>\n",
       "      <th>index</th>\n",
       "      <th>Policy Number</th>\n",
       "      <th>Customer ID</th>\n",
       "      <th>Date</th>\n",
       "      <th>Product Category</th>\n",
       "      <th>Product Name</th>\n",
       "      <th>Policy_Value_Snapshot</th>\n",
       "    </tr>\n",
       "  </thead>\n",
       "  <tbody>\n",
       "    <tr>\n",
       "      <th>0</th>\n",
       "      <td>0</td>\n",
       "      <td>ANN1221</td>\n",
       "      <td>CO408564</td>\n",
       "      <td>2009-10-31 00:00:00</td>\n",
       "      <td>ANNUITY</td>\n",
       "      <td>STANDARD ANNUITY</td>\n",
       "      <td>None</td>\n",
       "    </tr>\n",
       "    <tr>\n",
       "      <th>1</th>\n",
       "      <td>1</td>\n",
       "      <td>ANN1221</td>\n",
       "      <td>CO408564</td>\n",
       "      <td>2009-11-30 00:00:00</td>\n",
       "      <td>ANNUITY</td>\n",
       "      <td>STANDARD ANNUITY</td>\n",
       "      <td>None</td>\n",
       "    </tr>\n",
       "    <tr>\n",
       "      <th>2</th>\n",
       "      <td>2</td>\n",
       "      <td>ANN1221</td>\n",
       "      <td>CO408564</td>\n",
       "      <td>2009-12-31 00:00:00</td>\n",
       "      <td>ANNUITY</td>\n",
       "      <td>STANDARD ANNUITY</td>\n",
       "      <td>None</td>\n",
       "    </tr>\n",
       "    <tr>\n",
       "      <th>3</th>\n",
       "      <td>3</td>\n",
       "      <td>ANN1221</td>\n",
       "      <td>CO408564</td>\n",
       "      <td>2010-01-31 00:00:00</td>\n",
       "      <td>ANNUITY</td>\n",
       "      <td>STANDARD ANNUITY</td>\n",
       "      <td>None</td>\n",
       "    </tr>\n",
       "    <tr>\n",
       "      <th>4</th>\n",
       "      <td>4</td>\n",
       "      <td>ANN1221</td>\n",
       "      <td>CO408564</td>\n",
       "      <td>2010-02-28 00:00:00</td>\n",
       "      <td>ANNUITY</td>\n",
       "      <td>STANDARD ANNUITY</td>\n",
       "      <td>None</td>\n",
       "    </tr>\n",
       "  </tbody>\n",
       "</table>\n",
       "</div>"
      ],
      "text/plain": [
       "   index Policy Number Customer ID                 Date Product Category  \\\n",
       "0      0       ANN1221    CO408564  2009-10-31 00:00:00          ANNUITY   \n",
       "1      1       ANN1221    CO408564  2009-11-30 00:00:00          ANNUITY   \n",
       "2      2       ANN1221    CO408564  2009-12-31 00:00:00          ANNUITY   \n",
       "3      3       ANN1221    CO408564  2010-01-31 00:00:00          ANNUITY   \n",
       "4      4       ANN1221    CO408564  2010-02-28 00:00:00          ANNUITY   \n",
       "\n",
       "       Product Name Policy_Value_Snapshot  \n",
       "0  STANDARD ANNUITY                  None  \n",
       "1  STANDARD ANNUITY                  None  \n",
       "2  STANDARD ANNUITY                  None  \n",
       "3  STANDARD ANNUITY                  None  \n",
       "4  STANDARD ANNUITY                  None  "
      ]
     },
     "execution_count": 6,
     "metadata": {},
     "output_type": "execute_result"
    }
   ],
   "source": [
    "sqlite_query = \"\"\"\n",
    "SELECT \n",
    "*\n",
    "from Fund_Table\n",
    "limit 5\n",
    "\n",
    "\"\"\"\n",
    "\n",
    "pd.read_sql(sqlite_query, conn)"
   ]
  },
  {
   "cell_type": "markdown",
   "metadata": {},
   "source": [
    "If a question requires additional explanation for your answer, please add additional cells below the code. "
   ]
  },
  {
   "cell_type": "markdown",
   "metadata": {
    "run_control": {
     "marked": true
    }
   },
   "source": [
    "## Q1: What is the current average policy value split by each product name? "
   ]
  },
  {
   "cell_type": "code",
   "execution_count": 7,
   "metadata": {
    "run_control": {
     "marked": true
    }
   },
   "outputs": [
    {
     "data": {
      "text/html": [
       "<div>\n",
       "<style scoped>\n",
       "    .dataframe tbody tr th:only-of-type {\n",
       "        vertical-align: middle;\n",
       "    }\n",
       "\n",
       "    .dataframe tbody tr th {\n",
       "        vertical-align: top;\n",
       "    }\n",
       "\n",
       "    .dataframe thead th {\n",
       "        text-align: right;\n",
       "    }\n",
       "</style>\n",
       "<table border=\"1\" class=\"dataframe\">\n",
       "  <thead>\n",
       "    <tr style=\"text-align: right;\">\n",
       "      <th></th>\n",
       "      <th>Product Name</th>\n",
       "      <th>Avg_Policy_Value</th>\n",
       "    </tr>\n",
       "  </thead>\n",
       "  <tbody>\n",
       "    <tr>\n",
       "      <th>0</th>\n",
       "      <td>RETIREMENT ACCOUNT</td>\n",
       "      <td>504965.0</td>\n",
       "    </tr>\n",
       "    <tr>\n",
       "      <th>1</th>\n",
       "      <td>CORPORATE MEMBERSHIP</td>\n",
       "      <td>5697.0</td>\n",
       "    </tr>\n",
       "    <tr>\n",
       "      <th>2</th>\n",
       "      <td>PRUDENTIAL ISA</td>\n",
       "      <td>5161.0</td>\n",
       "    </tr>\n",
       "    <tr>\n",
       "      <th>3</th>\n",
       "      <td>FOCUSSED ISA</td>\n",
       "      <td>5746.0</td>\n",
       "    </tr>\n",
       "    <tr>\n",
       "      <th>4</th>\n",
       "      <td>PRU BOND</td>\n",
       "      <td>4516.0</td>\n",
       "    </tr>\n",
       "    <tr>\n",
       "      <th>5</th>\n",
       "      <td>NHS PENSION</td>\n",
       "      <td>5242.0</td>\n",
       "    </tr>\n",
       "    <tr>\n",
       "      <th>6</th>\n",
       "      <td>SIPP</td>\n",
       "      <td>5336.0</td>\n",
       "    </tr>\n",
       "    <tr>\n",
       "      <th>7</th>\n",
       "      <td>PRUDENTIAL INVESTMENT PLAN</td>\n",
       "      <td>5085.0</td>\n",
       "    </tr>\n",
       "    <tr>\n",
       "      <th>8</th>\n",
       "      <td>STANDARD ANNUITY</td>\n",
       "      <td>NaN</td>\n",
       "    </tr>\n",
       "  </tbody>\n",
       "</table>\n",
       "</div>"
      ],
      "text/plain": [
       "                 Product Name  Avg_Policy_Value\n",
       "0          RETIREMENT ACCOUNT          504965.0\n",
       "1        CORPORATE MEMBERSHIP            5697.0\n",
       "2              PRUDENTIAL ISA            5161.0\n",
       "3                FOCUSSED ISA            5746.0\n",
       "4                    PRU BOND            4516.0\n",
       "5                 NHS PENSION            5242.0\n",
       "6                        SIPP            5336.0\n",
       "7  PRUDENTIAL INVESTMENT PLAN            5085.0\n",
       "8            STANDARD ANNUITY               NaN"
      ]
     },
     "execution_count": 7,
     "metadata": {},
     "output_type": "execute_result"
    }
   ],
   "source": [
    "import numpy as np\n",
    "import pandas as pd\n",
    "import sqlite3\n",
    "\n",
    "# Establish DB connection\n",
    "conn = sqlite3.connect('Prudential_Data.db')\n",
    "\n",
    "sqlite_query = \"\"\"\n",
    "SELECT DISTINCT \"Product Name\",ROUND(AVG(\"Policy Value\"),0) as \"Avg_Policy_Value\"\n",
    "FROM Policy_Table\n",
    "GROUP BY \"Product Name\"\n",
    "ORDER BY \"Policy Value\" DESC\n",
    "\"\"\"\n",
    "\n",
    "pd.read_sql(sqlite_query, conn)"
   ]
  },
  {
   "cell_type": "markdown",
   "metadata": {
    "run_control": {
     "marked": true
    }
   },
   "source": [
    "## Q2: How many customers opened a new policy in Q1 2017 who already had an existing pension product? "
   ]
  },
  {
   "cell_type": "code",
   "execution_count": 8,
   "metadata": {
    "run_control": {
     "marked": true
    },
    "scrolled": true
   },
   "outputs": [
    {
     "data": {
      "text/html": [
       "<div>\n",
       "<style scoped>\n",
       "    .dataframe tbody tr th:only-of-type {\n",
       "        vertical-align: middle;\n",
       "    }\n",
       "\n",
       "    .dataframe tbody tr th {\n",
       "        vertical-align: top;\n",
       "    }\n",
       "\n",
       "    .dataframe thead th {\n",
       "        text-align: right;\n",
       "    }\n",
       "</style>\n",
       "<table border=\"1\" class=\"dataframe\">\n",
       "  <thead>\n",
       "    <tr style=\"text-align: right;\">\n",
       "      <th></th>\n",
       "      <th>Cust_Count</th>\n",
       "    </tr>\n",
       "  </thead>\n",
       "  <tbody>\n",
       "    <tr>\n",
       "      <th>0</th>\n",
       "      <td>0</td>\n",
       "    </tr>\n",
       "  </tbody>\n",
       "</table>\n",
       "</div>"
      ],
      "text/plain": [
       "   Cust_Count\n",
       "0           0"
      ]
     },
     "execution_count": 8,
     "metadata": {},
     "output_type": "execute_result"
    }
   ],
   "source": [
    "import numpy as np\n",
    "import pandas as pd\n",
    "import sqlite3\n",
    "\n",
    "# Establish DB connection\n",
    "conn = sqlite3.connect('Prudential_Data.db')\n",
    "\n",
    "sqlite_query = \"\"\"\n",
    "SELECT COUNT(*) AS \"Cust_Count\" FROM\n",
    "(\n",
    "    SELECT DISTINCT \"Customer ID\"\n",
    "    FROM Policy_Table\n",
    "    WHERE \"Policy Start Date\">=\"2017-04-01 00:00:00\" AND \"Policy Start Date\"<\"2017-07-01 00:00:00\"\n",
    "    GROUP BY \"Customer ID\"\n",
    "    \n",
    "INTERSECT\n",
    "\n",
    "    SELECT DISTINCT \"Customer ID\"\n",
    "    FROM Policy_Table\n",
    "    WHERE \"Product Category\" = \"PENSION\" AND \"Policy Start Date\"<\"2017-04-01 00:00:00\"\n",
    "    GROUP BY \"Customer ID\"\n",
    ")\n",
    "\"\"\"\n",
    "pd.read_sql(sqlite_query, conn)"
   ]
  },
  {
   "cell_type": "markdown",
   "metadata": {
    "run_control": {
     "marked": true
    }
   },
   "source": [
    "## Q3: What was the customer ID that had the biggest difference in policy value between its earliest and latest date (for any product) ?"
   ]
  },
  {
   "cell_type": "code",
   "execution_count": 9,
   "metadata": {
    "run_control": {
     "marked": true
    }
   },
   "outputs": [
    {
     "data": {
      "text/html": [
       "<div>\n",
       "<style scoped>\n",
       "    .dataframe tbody tr th:only-of-type {\n",
       "        vertical-align: middle;\n",
       "    }\n",
       "\n",
       "    .dataframe tbody tr th {\n",
       "        vertical-align: top;\n",
       "    }\n",
       "\n",
       "    .dataframe thead th {\n",
       "        text-align: right;\n",
       "    }\n",
       "</style>\n",
       "<table border=\"1\" class=\"dataframe\">\n",
       "  <thead>\n",
       "    <tr style=\"text-align: right;\">\n",
       "      <th></th>\n",
       "      <th>Customer ID</th>\n",
       "      <th>Policy Number</th>\n",
       "      <th>Max_Diff</th>\n",
       "    </tr>\n",
       "  </thead>\n",
       "  <tbody>\n",
       "    <tr>\n",
       "      <th>0</th>\n",
       "      <td>CO401070</td>\n",
       "      <td>RET100479</td>\n",
       "      <td>973971.0</td>\n",
       "    </tr>\n",
       "  </tbody>\n",
       "</table>\n",
       "</div>"
      ],
      "text/plain": [
       "  Customer ID Policy Number  Max_Diff\n",
       "0    CO401070     RET100479  973971.0"
      ]
     },
     "execution_count": 9,
     "metadata": {},
     "output_type": "execute_result"
    }
   ],
   "source": [
    "import numpy as np\n",
    "import pandas as pd\n",
    "import sqlite3\n",
    "\n",
    "# Establish DB connection\n",
    "conn = sqlite3.connect('Prudential_Data.db')\n",
    "\n",
    "sqlite_query = \"\"\"\n",
    "\n",
    "SELECT \"Customer ID\", \"Policy Number\", MAX(Diff) AS Max_Diff FROM\n",
    "(\n",
    "    SELECT  y.\"Customer ID\", y.Date, y.\"Policy Number\", (y.Policy_Value - x.Policy_Value) \"Diff\"\n",
    "    FROM\n",
    "    (\n",
    "        SELECT  a.* FROM\n",
    "            (\n",
    "                SELECT \"Customer ID\",\"Policy Number\",MAX(Date) AS \"Date\",ROUND(Policy_Value_Snapshot,0) AS \"Policy_Value\"\n",
    "                FROM Fund_Table\n",
    "                GROUP BY \"Customer ID\", \"Policy Number\"\n",
    "            )\n",
    "        a INNER JOIN\n",
    "        (\n",
    "            SELECT \"Customer ID\", MAX(Date) MaxDate FROM\n",
    "            (\n",
    "                SELECT \"Customer ID\",\"Policy Number\",MAX(Date) AS \"Date\",ROUND(Policy_Value_Snapshot,0) AS \"Policy_Value\"\n",
    "                FROM Fund_Table\n",
    "                GROUP BY \"Customer ID\", \"Policy Number\"\n",
    "            )\n",
    "            GROUP BY \"Customer ID\"\n",
    "        \n",
    "        ) b ON  a.\"Customer ID\" = b.\"Customer ID\" AND a.Date = b.MaxDate\n",
    "    ) y INNER JOIN\n",
    "        (\n",
    "        SELECT  a.* FROM\n",
    "                (\n",
    "                SELECT \"Customer ID\",\"Policy Number\",MIN(Date) AS \"Date\",ROUND(Policy_Value_Snapshot,0) AS \"Policy_Value\"\n",
    "                FROM Fund_Table\n",
    "                GROUP BY \"Customer ID\", \"Policy Number\"\n",
    "                )\n",
    "            a INNER JOIN\n",
    "            (\n",
    "                SELECT \"Customer ID\", MIN(Date) MinDate FROM\n",
    "                (\n",
    "                    SELECT \"Customer ID\",\"Policy Number\",MIN(Date) AS \"Date\",ROUND(Policy_Value_Snapshot,0) AS \"Policy_Value\"\n",
    "                    FROM Fund_Table\n",
    "                    GROUP BY \"Customer ID\", \"Policy Number\"\n",
    "                )\n",
    "                GROUP BY \"Customer ID\"\n",
    "                \n",
    "            ) b ON  a.\"Customer ID\" = b.\"Customer ID\" AND a.Date = b.MinDate\n",
    "        ) x ON y.\"Customer ID\" = x.\"Customer ID\"\n",
    ")\n",
    "\n",
    "\"\"\"\n",
    "\n",
    "pd.read_sql(sqlite_query, conn)\n"
   ]
  },
  {
   "cell_type": "markdown",
   "metadata": {
    "run_control": {
     "marked": true
    }
   },
   "source": [
    "# Python Test\n",
    "\n",
    "Same data, but now let's have some fun in python. Please do not use SQL for this part of the exercise. \n",
    "\n",
    "Feel free to add more cells of code or text"
   ]
  },
  {
   "cell_type": "code",
   "execution_count": null,
   "metadata": {
    "run_control": {
     "marked": true
    }
   },
   "outputs": [],
   "source": [
    "Customer_Table = pd.read_sql('SELECT * FROM Customer_Table', conn)\n",
    "Policy_Table = pd.read_sql('SELECT * FROM Policy_Table', conn)\n",
    "Fund_Table = pd.read_sql('SELECT * FROM Fund_Table', conn)"
   ]
  },
  {
   "cell_type": "markdown",
   "metadata": {
    "run_control": {
     "marked": true
    }
   },
   "source": [
    "## Q4: Produce a list of customers which have an invalid email address. What do you notice about these customers? ##\n",
    "\n",
    "Feel free to use any packages of your choice"
   ]
  },
  {
   "cell_type": "code",
   "execution_count": 10,
   "metadata": {
    "run_control": {
     "marked": true
    }
   },
   "outputs": [
    {
     "name": "stdout",
     "output_type": "stream",
     "text": [
      "     index Customer ID                     Email  Gender  Age        Postcode  \\\n",
      "1        1    CO314757                      None  Female   90            None   \n",
      "2        2    CO720602                      None  Female   90            None   \n",
      "3        3     CO34804                      None  Female   90        1495-701   \n",
      "4        4    CO474411                      None    Male   90          301288   \n",
      "5        5    CO777973                      None  Female   90            None   \n",
      "6        6    CO311505                      None    Male   90            None   \n",
      "7        7    CO474987                      None  Female   89            None   \n",
      "8        8    CO496581                      None  Female   89       36520-000   \n",
      "9        9    CO862381                      None    Male   89            8301   \n",
      "22      22    CO401070                      None  Female   88            None   \n",
      "28      28    CO131348                      None    Male   88            None   \n",
      "29      29    CO494489                      None  Female   88            None   \n",
      "30      30    CO340827                      None    Male   88            6121   \n",
      "31      31    CO990552                      None    Male   87            1618   \n",
      "32      32    CO623285                      None  Female   87            None   \n",
      "33      33    CO276506                      None  Female   87            None   \n",
      "34      34    CO531274                      None  Female   87            None   \n",
      "35      35    CO486130                      None    Male   87          649787   \n",
      "36      36    CO607185                      None    Male   87            None   \n",
      "37      37    CO797073                      None  Female   87            None   \n",
      "38      38    CO697092                      None  Female   87            None   \n",
      "39      39    CO462135                      None    Male   87            None   \n",
      "40      40    CO636054                      None    Male   87  75706 CEDEX 13   \n",
      "41      41     CO28776                      None    Male   87            7019   \n",
      "49      49    CO259564                      None    Male   87            None   \n",
      "65      65    CO377225                      None  Female   85           70826   \n",
      "66      66    CO343669                      None  Female   85            None   \n",
      "67      67     CO76470                      None    Male   85           29952   \n",
      "68      68    CO997036                      None    Male   85            None   \n",
      "69      69    CO878780                      None  Female   85            None   \n",
      "70      70    CO714161                      None    Male   85            None   \n",
      "71      71     CO46570                      None  Female   85            None   \n",
      "72      72     CO34681                      None    Male   85            None   \n",
      "73      73    CO521545                      None    Male   85        4950-070   \n",
      "74      74    CO823952                      None    Male   85            None   \n",
      "75      75    CO478692                      None    Male   85            2432   \n",
      "76      76    CO360302                      None  Female   84            2980   \n",
      "121    121    CO609712                   NOEMAIL    Male   81            None   \n",
      "174    174    CO668361                      None    Male   76            None   \n",
      "188    188    CO321339                      None  Female   75            None   \n",
      "189    189    CO424141                      None    Male   75            None   \n",
      "218    218     CO71578           TGADDIEHB@TOPSY  Female   74            None   \n",
      "219    219    CO545536   VPEGGSK3@@@SPRINGER.COM    Male   74       46100-000   \n",
      "229    229    CO660405                      None    Male   73         MD-6227   \n",
      "249    249    CO186677                      None    Male   71            None   \n",
      "337    337    CO795420                         .  Female   68          680011   \n",
      "367    367    CO825106                      None  Female   65          59-225   \n",
      "368    368    CO285665                      None    Male   65            None   \n",
      "399    399    CO205159  ALOWSELYHF@#AMAZON.CO.JP  Female   65            None   \n",
      "491    491    CO155821                      None    Male   64          521 96   \n",
      "492    492     CO20742                      None  Female   64           46240   \n",
      "564    564    CO177172                      None    Male   62            None   \n",
      "973    973    CO922481     CUSTOMER TO FOLLOW UP    Male   33            8340   \n",
      "\n",
      "    isemail  \n",
      "1     False  \n",
      "2     False  \n",
      "3     False  \n",
      "4     False  \n",
      "5     False  \n",
      "6     False  \n",
      "7     False  \n",
      "8     False  \n",
      "9     False  \n",
      "22    False  \n",
      "28    False  \n",
      "29    False  \n",
      "30    False  \n",
      "31    False  \n",
      "32    False  \n",
      "33    False  \n",
      "34    False  \n",
      "35    False  \n",
      "36    False  \n",
      "37    False  \n",
      "38    False  \n",
      "39    False  \n",
      "40    False  \n",
      "41    False  \n",
      "49    False  \n",
      "65    False  \n",
      "66    False  \n",
      "67    False  \n",
      "68    False  \n",
      "69    False  \n",
      "70    False  \n",
      "71    False  \n",
      "72    False  \n",
      "73    False  \n",
      "74    False  \n",
      "75    False  \n",
      "76    False  \n",
      "121   False  \n",
      "174   False  \n",
      "188   False  \n",
      "189   False  \n",
      "218   False  \n",
      "219   False  \n",
      "229   False  \n",
      "249   False  \n",
      "337   False  \n",
      "367   False  \n",
      "368   False  \n",
      "399   False  \n",
      "491   False  \n",
      "492   False  \n",
      "564   False  \n",
      "973   False  \n",
      "            index        Age\n",
      "count   53.000000  53.000000\n",
      "mean   132.509434  81.264151\n",
      "std    184.286318  10.765241\n",
      "min      1.000000  33.000000\n",
      "25%     31.000000  75.000000\n",
      "50%     66.000000  85.000000\n",
      "75%    188.000000  87.000000\n",
      "max    973.000000  90.000000\n",
      "       index                                                          Age  \\\n",
      "       count        mean         std  min   25%   50%    75%    max count   \n",
      "Gender                                                                      \n",
      "Female  24.0  108.291667  144.862597  1.0  18.5  37.5  104.0  492.0  24.0   \n",
      "Male    29.0  152.551724  211.930849  4.0  36.0  70.0  189.0  973.0  29.0   \n",
      "\n",
      "                                                              \n",
      "             mean        std   min    25%   50%    75%   max  \n",
      "Gender                                                        \n",
      "Female  82.666667   8.825195  64.0  81.75  87.0  88.25  90.0  \n",
      "Male    80.103448  12.172407  33.0  75.00  85.0  87.00  90.0  \n"
     ]
    }
   ],
   "source": [
    "#Insert your answer below: \n",
    "\n",
    "import numpy as np\n",
    "import pandas as pd\n",
    "import sqlite3\n",
    "import re\n",
    "\n",
    "Customer_Table = pd.read_sql('SELECT * FROM Customer_Table', conn)\n",
    "Policy_Table = pd.read_sql('SELECT * FROM Policy_Table', conn)\n",
    "Fund_Table = pd.read_sql('SELECT * FROM Fund_Table', conn)\n",
    "\n",
    "# Establish DB connection\n",
    "conn = sqlite3.connect('Prudential_Data.db')\n",
    "\n",
    "pattern = re.compile(r\"(^[a-zA-Z0-9_.+-]+@[a-zA-Z0-9-]+\\.[a-zA-Z0-9-.]+$)\")\n",
    "\n",
    "df = pd.DataFrame(Customer_Table)\n",
    "df['Email'].fillna('Missing')\n",
    "df['Email'] = df['Email'].astype(str)\n",
    "df['Gender'] = df['Gender'].astype(str)\n",
    "\n",
    "#print(df.dtypes)\n",
    "\n",
    "df['isemail'] = df['Email'].apply(lambda x: True if pattern.match(x) else False)\n",
    "#print(df)\n",
    "\n",
    "df['isemail'] = df['isemail'].astype(str)\n",
    "include = ['False']\n",
    "df_invalid_email = df[df['isemail'].isin(include)] \n",
    "\n",
    "print(df_invalid_email)\n",
    "print(df_invalid_email.describe())\n",
    "\n",
    "print(df_invalid_email.groupby(df.Gender).describe())\n",
    "\n",
    "## COMMENTS ##\n",
    "\n",
    "# There are 53 customer with invalid email address\n",
    "# Average age for all of these customers is >80"
   ]
  },
  {
   "cell_type": "markdown",
   "metadata": {
    "run_control": {
     "marked": true
    }
   },
   "source": [
    "## Q5: The Managing Director of Pru Wealth needs to see how policy value differs between other variables in the database (e.g. customer demographics) . They don't have time to read a report, so have asked for a cool visualisation that tells a story.\n",
    "\n",
    "Visualise something cool, tell us a story! You can use packages like Matplotlib, Seaborn or Plotly.Tell us why you chose to visualise the data in this way and how it can be used from a business perspective.\n"
   ]
  },
  {
   "cell_type": "code",
   "execution_count": 11,
   "metadata": {
    "run_control": {
     "marked": true
    }
   },
   "outputs": [
    {
     "name": "stdout",
     "output_type": "stream",
     "text": [
      "  Age_Category  Avg_Policy_Value_Female  Avg_Policy_Value_Male\n",
      "0        11-20                      NaN               337144.0\n",
      "1        21-30                 234054.0               327515.0\n",
      "2        31-40                 388100.0               363942.0\n",
      "3        41-50                 315360.0               307479.0\n",
      "4        51-60                 346132.0               331668.0\n",
      "5        61-70                 347252.0               341776.0\n",
      "6        71-80                 292706.0               361578.0\n",
      "7        81-90                 393051.0               281456.0\n",
      "       Avg_Policy_Value_Female  Avg_Policy_Value_Male\n",
      "count                      7.0                    8.0\n",
      "mean                  330951.0               331570.0\n",
      "std                    55847.0                27234.0\n",
      "min                   234054.0               281456.0\n",
      "25%                   304033.0               322506.0\n",
      "50%                   346132.0               334406.0\n",
      "75%                   367676.0               346726.0\n",
      "max                   393051.0               363942.0\n"
     ]
    },
    {
     "data": {
      "application/vnd.plotly.v1+json": {
       "config": {
        "plotlyServerURL": "https://plot.ly"
       },
       "data": [
        {
         "marker": {
          "color": "rgb(0, 92, 98)"
         },
         "name": "Male",
         "orientation": "h",
         "type": "bar",
         "x": [
          337144,
          327515,
          363942,
          307479,
          331668,
          341776,
          361578,
          281456
         ],
         "y": [
          "11-20",
          "21-30",
          "31-40",
          "41-50",
          "51-60",
          "61-70",
          "71-80",
          "81-90"
         ]
        },
        {
         "marker": {
          "color": "rgb(258, 78, 10)"
         },
         "name": "Female",
         "orientation": "h",
         "type": "bar",
         "x": [
          null,
          -234054,
          -388100,
          -315360,
          -346132,
          -347252,
          -292706,
          -393051
         ],
         "y": [
          "11-20",
          "21-30",
          "31-40",
          "41-50",
          "51-60",
          "61-70",
          "71-80",
          "81-90"
         ]
        }
       ],
       "layout": {
        "bargap": 0.2,
        "bargroupgap": 0,
        "barmode": "relative",
        "template": {
         "data": {
          "bar": [
           {
            "error_x": {
             "color": "#2a3f5f"
            },
            "error_y": {
             "color": "#2a3f5f"
            },
            "marker": {
             "line": {
              "color": "#E5ECF6",
              "width": 0.5
             }
            },
            "type": "bar"
           }
          ],
          "barpolar": [
           {
            "marker": {
             "line": {
              "color": "#E5ECF6",
              "width": 0.5
             }
            },
            "type": "barpolar"
           }
          ],
          "carpet": [
           {
            "aaxis": {
             "endlinecolor": "#2a3f5f",
             "gridcolor": "white",
             "linecolor": "white",
             "minorgridcolor": "white",
             "startlinecolor": "#2a3f5f"
            },
            "baxis": {
             "endlinecolor": "#2a3f5f",
             "gridcolor": "white",
             "linecolor": "white",
             "minorgridcolor": "white",
             "startlinecolor": "#2a3f5f"
            },
            "type": "carpet"
           }
          ],
          "choropleth": [
           {
            "colorbar": {
             "outlinewidth": 0,
             "ticks": ""
            },
            "type": "choropleth"
           }
          ],
          "contour": [
           {
            "colorbar": {
             "outlinewidth": 0,
             "ticks": ""
            },
            "colorscale": [
             [
              0,
              "#0d0887"
             ],
             [
              0.1111111111111111,
              "#46039f"
             ],
             [
              0.2222222222222222,
              "#7201a8"
             ],
             [
              0.3333333333333333,
              "#9c179e"
             ],
             [
              0.4444444444444444,
              "#bd3786"
             ],
             [
              0.5555555555555556,
              "#d8576b"
             ],
             [
              0.6666666666666666,
              "#ed7953"
             ],
             [
              0.7777777777777778,
              "#fb9f3a"
             ],
             [
              0.8888888888888888,
              "#fdca26"
             ],
             [
              1,
              "#f0f921"
             ]
            ],
            "type": "contour"
           }
          ],
          "contourcarpet": [
           {
            "colorbar": {
             "outlinewidth": 0,
             "ticks": ""
            },
            "type": "contourcarpet"
           }
          ],
          "heatmap": [
           {
            "colorbar": {
             "outlinewidth": 0,
             "ticks": ""
            },
            "colorscale": [
             [
              0,
              "#0d0887"
             ],
             [
              0.1111111111111111,
              "#46039f"
             ],
             [
              0.2222222222222222,
              "#7201a8"
             ],
             [
              0.3333333333333333,
              "#9c179e"
             ],
             [
              0.4444444444444444,
              "#bd3786"
             ],
             [
              0.5555555555555556,
              "#d8576b"
             ],
             [
              0.6666666666666666,
              "#ed7953"
             ],
             [
              0.7777777777777778,
              "#fb9f3a"
             ],
             [
              0.8888888888888888,
              "#fdca26"
             ],
             [
              1,
              "#f0f921"
             ]
            ],
            "type": "heatmap"
           }
          ],
          "heatmapgl": [
           {
            "colorbar": {
             "outlinewidth": 0,
             "ticks": ""
            },
            "colorscale": [
             [
              0,
              "#0d0887"
             ],
             [
              0.1111111111111111,
              "#46039f"
             ],
             [
              0.2222222222222222,
              "#7201a8"
             ],
             [
              0.3333333333333333,
              "#9c179e"
             ],
             [
              0.4444444444444444,
              "#bd3786"
             ],
             [
              0.5555555555555556,
              "#d8576b"
             ],
             [
              0.6666666666666666,
              "#ed7953"
             ],
             [
              0.7777777777777778,
              "#fb9f3a"
             ],
             [
              0.8888888888888888,
              "#fdca26"
             ],
             [
              1,
              "#f0f921"
             ]
            ],
            "type": "heatmapgl"
           }
          ],
          "histogram": [
           {
            "marker": {
             "colorbar": {
              "outlinewidth": 0,
              "ticks": ""
             }
            },
            "type": "histogram"
           }
          ],
          "histogram2d": [
           {
            "colorbar": {
             "outlinewidth": 0,
             "ticks": ""
            },
            "colorscale": [
             [
              0,
              "#0d0887"
             ],
             [
              0.1111111111111111,
              "#46039f"
             ],
             [
              0.2222222222222222,
              "#7201a8"
             ],
             [
              0.3333333333333333,
              "#9c179e"
             ],
             [
              0.4444444444444444,
              "#bd3786"
             ],
             [
              0.5555555555555556,
              "#d8576b"
             ],
             [
              0.6666666666666666,
              "#ed7953"
             ],
             [
              0.7777777777777778,
              "#fb9f3a"
             ],
             [
              0.8888888888888888,
              "#fdca26"
             ],
             [
              1,
              "#f0f921"
             ]
            ],
            "type": "histogram2d"
           }
          ],
          "histogram2dcontour": [
           {
            "colorbar": {
             "outlinewidth": 0,
             "ticks": ""
            },
            "colorscale": [
             [
              0,
              "#0d0887"
             ],
             [
              0.1111111111111111,
              "#46039f"
             ],
             [
              0.2222222222222222,
              "#7201a8"
             ],
             [
              0.3333333333333333,
              "#9c179e"
             ],
             [
              0.4444444444444444,
              "#bd3786"
             ],
             [
              0.5555555555555556,
              "#d8576b"
             ],
             [
              0.6666666666666666,
              "#ed7953"
             ],
             [
              0.7777777777777778,
              "#fb9f3a"
             ],
             [
              0.8888888888888888,
              "#fdca26"
             ],
             [
              1,
              "#f0f921"
             ]
            ],
            "type": "histogram2dcontour"
           }
          ],
          "mesh3d": [
           {
            "colorbar": {
             "outlinewidth": 0,
             "ticks": ""
            },
            "type": "mesh3d"
           }
          ],
          "parcoords": [
           {
            "line": {
             "colorbar": {
              "outlinewidth": 0,
              "ticks": ""
             }
            },
            "type": "parcoords"
           }
          ],
          "pie": [
           {
            "automargin": true,
            "type": "pie"
           }
          ],
          "scatter": [
           {
            "marker": {
             "colorbar": {
              "outlinewidth": 0,
              "ticks": ""
             }
            },
            "type": "scatter"
           }
          ],
          "scatter3d": [
           {
            "line": {
             "colorbar": {
              "outlinewidth": 0,
              "ticks": ""
             }
            },
            "marker": {
             "colorbar": {
              "outlinewidth": 0,
              "ticks": ""
             }
            },
            "type": "scatter3d"
           }
          ],
          "scattercarpet": [
           {
            "marker": {
             "colorbar": {
              "outlinewidth": 0,
              "ticks": ""
             }
            },
            "type": "scattercarpet"
           }
          ],
          "scattergeo": [
           {
            "marker": {
             "colorbar": {
              "outlinewidth": 0,
              "ticks": ""
             }
            },
            "type": "scattergeo"
           }
          ],
          "scattergl": [
           {
            "marker": {
             "colorbar": {
              "outlinewidth": 0,
              "ticks": ""
             }
            },
            "type": "scattergl"
           }
          ],
          "scattermapbox": [
           {
            "marker": {
             "colorbar": {
              "outlinewidth": 0,
              "ticks": ""
             }
            },
            "type": "scattermapbox"
           }
          ],
          "scatterpolar": [
           {
            "marker": {
             "colorbar": {
              "outlinewidth": 0,
              "ticks": ""
             }
            },
            "type": "scatterpolar"
           }
          ],
          "scatterpolargl": [
           {
            "marker": {
             "colorbar": {
              "outlinewidth": 0,
              "ticks": ""
             }
            },
            "type": "scatterpolargl"
           }
          ],
          "scatterternary": [
           {
            "marker": {
             "colorbar": {
              "outlinewidth": 0,
              "ticks": ""
             }
            },
            "type": "scatterternary"
           }
          ],
          "surface": [
           {
            "colorbar": {
             "outlinewidth": 0,
             "ticks": ""
            },
            "colorscale": [
             [
              0,
              "#0d0887"
             ],
             [
              0.1111111111111111,
              "#46039f"
             ],
             [
              0.2222222222222222,
              "#7201a8"
             ],
             [
              0.3333333333333333,
              "#9c179e"
             ],
             [
              0.4444444444444444,
              "#bd3786"
             ],
             [
              0.5555555555555556,
              "#d8576b"
             ],
             [
              0.6666666666666666,
              "#ed7953"
             ],
             [
              0.7777777777777778,
              "#fb9f3a"
             ],
             [
              0.8888888888888888,
              "#fdca26"
             ],
             [
              1,
              "#f0f921"
             ]
            ],
            "type": "surface"
           }
          ],
          "table": [
           {
            "cells": {
             "fill": {
              "color": "#EBF0F8"
             },
             "line": {
              "color": "white"
             }
            },
            "header": {
             "fill": {
              "color": "#C8D4E3"
             },
             "line": {
              "color": "white"
             }
            },
            "type": "table"
           }
          ]
         },
         "layout": {
          "annotationdefaults": {
           "arrowcolor": "#2a3f5f",
           "arrowhead": 0,
           "arrowwidth": 1
          },
          "coloraxis": {
           "colorbar": {
            "outlinewidth": 0,
            "ticks": ""
           }
          },
          "colorscale": {
           "diverging": [
            [
             0,
             "#8e0152"
            ],
            [
             0.1,
             "#c51b7d"
            ],
            [
             0.2,
             "#de77ae"
            ],
            [
             0.3,
             "#f1b6da"
            ],
            [
             0.4,
             "#fde0ef"
            ],
            [
             0.5,
             "#f7f7f7"
            ],
            [
             0.6,
             "#e6f5d0"
            ],
            [
             0.7,
             "#b8e186"
            ],
            [
             0.8,
             "#7fbc41"
            ],
            [
             0.9,
             "#4d9221"
            ],
            [
             1,
             "#276419"
            ]
           ],
           "sequential": [
            [
             0,
             "#0d0887"
            ],
            [
             0.1111111111111111,
             "#46039f"
            ],
            [
             0.2222222222222222,
             "#7201a8"
            ],
            [
             0.3333333333333333,
             "#9c179e"
            ],
            [
             0.4444444444444444,
             "#bd3786"
            ],
            [
             0.5555555555555556,
             "#d8576b"
            ],
            [
             0.6666666666666666,
             "#ed7953"
            ],
            [
             0.7777777777777778,
             "#fb9f3a"
            ],
            [
             0.8888888888888888,
             "#fdca26"
            ],
            [
             1,
             "#f0f921"
            ]
           ],
           "sequentialminus": [
            [
             0,
             "#0d0887"
            ],
            [
             0.1111111111111111,
             "#46039f"
            ],
            [
             0.2222222222222222,
             "#7201a8"
            ],
            [
             0.3333333333333333,
             "#9c179e"
            ],
            [
             0.4444444444444444,
             "#bd3786"
            ],
            [
             0.5555555555555556,
             "#d8576b"
            ],
            [
             0.6666666666666666,
             "#ed7953"
            ],
            [
             0.7777777777777778,
             "#fb9f3a"
            ],
            [
             0.8888888888888888,
             "#fdca26"
            ],
            [
             1,
             "#f0f921"
            ]
           ]
          },
          "colorway": [
           "#636efa",
           "#EF553B",
           "#00cc96",
           "#ab63fa",
           "#FFA15A",
           "#19d3f3",
           "#FF6692",
           "#B6E880",
           "#FF97FF",
           "#FECB52"
          ],
          "font": {
           "color": "#2a3f5f"
          },
          "geo": {
           "bgcolor": "white",
           "lakecolor": "white",
           "landcolor": "#E5ECF6",
           "showlakes": true,
           "showland": true,
           "subunitcolor": "white"
          },
          "hoverlabel": {
           "align": "left"
          },
          "hovermode": "closest",
          "mapbox": {
           "style": "light"
          },
          "paper_bgcolor": "white",
          "plot_bgcolor": "#E5ECF6",
          "polar": {
           "angularaxis": {
            "gridcolor": "white",
            "linecolor": "white",
            "ticks": ""
           },
           "bgcolor": "#E5ECF6",
           "radialaxis": {
            "gridcolor": "white",
            "linecolor": "white",
            "ticks": ""
           }
          },
          "scene": {
           "xaxis": {
            "backgroundcolor": "#E5ECF6",
            "gridcolor": "white",
            "gridwidth": 2,
            "linecolor": "white",
            "showbackground": true,
            "ticks": "",
            "zerolinecolor": "white"
           },
           "yaxis": {
            "backgroundcolor": "#E5ECF6",
            "gridcolor": "white",
            "gridwidth": 2,
            "linecolor": "white",
            "showbackground": true,
            "ticks": "",
            "zerolinecolor": "white"
           },
           "zaxis": {
            "backgroundcolor": "#E5ECF6",
            "gridcolor": "white",
            "gridwidth": 2,
            "linecolor": "white",
            "showbackground": true,
            "ticks": "",
            "zerolinecolor": "white"
           }
          },
          "shapedefaults": {
           "line": {
            "color": "#2a3f5f"
           }
          },
          "ternary": {
           "aaxis": {
            "gridcolor": "white",
            "linecolor": "white",
            "ticks": ""
           },
           "baxis": {
            "gridcolor": "white",
            "linecolor": "white",
            "ticks": ""
           },
           "bgcolor": "#E5ECF6",
           "caxis": {
            "gridcolor": "white",
            "linecolor": "white",
            "ticks": ""
           }
          },
          "title": {
           "x": 0.05
          },
          "xaxis": {
           "automargin": true,
           "gridcolor": "white",
           "linecolor": "white",
           "ticks": "",
           "title": {
            "standoff": 15
           },
           "zerolinecolor": "white",
           "zerolinewidth": 2
          },
          "yaxis": {
           "automargin": true,
           "gridcolor": "white",
           "linecolor": "white",
           "ticks": "",
           "title": {
            "standoff": 15
           },
           "zerolinecolor": "white",
           "zerolinewidth": 2
          }
         }
        },
        "title": {
         "font": {
          "size": 22
         },
         "text": "Average Policy Value Between Various Demographics"
        },
        "xaxis": {
         "ticktext": [
          "400K",
          "300K",
          "200K",
          "100K",
          "0",
          "100K",
          "200K",
          "300K",
          "400K"
         ],
         "tickvals": [
          -400000,
          -300000,
          -200000,
          -100000,
          0,
          100000,
          200000,
          300000,
          400000
         ],
         "title": {
          "font": {
           "size": 14
          },
          "text": "Policy Value in Thousands"
         }
        },
        "yaxis": {
         "title": {
          "text": "Age Group"
         }
        }
       }
      },
      "text/html": [
       "<div>\n",
       "        \n",
       "        \n",
       "            <div id=\"5550316b-438b-4f87-b159-34d0b3c7a072\" class=\"plotly-graph-div\" style=\"height:525px; width:100%;\"></div>\n",
       "            <script type=\"text/javascript\">\n",
       "                require([\"plotly\"], function(Plotly) {\n",
       "                    window.PLOTLYENV=window.PLOTLYENV || {};\n",
       "                    \n",
       "                if (document.getElementById(\"5550316b-438b-4f87-b159-34d0b3c7a072\")) {\n",
       "                    Plotly.newPlot(\n",
       "                        '5550316b-438b-4f87-b159-34d0b3c7a072',\n",
       "                        [{\"marker\": {\"color\": \"rgb(0, 92, 98)\"}, \"name\": \"Male\", \"orientation\": \"h\", \"type\": \"bar\", \"x\": [337144.0, 327515.0, 363942.0, 307479.0, 331668.0, 341776.0, 361578.0, 281456.0], \"y\": [\"11-20\", \"21-30\", \"31-40\", \"41-50\", \"51-60\", \"61-70\", \"71-80\", \"81-90\"]}, {\"marker\": {\"color\": \"rgb(258, 78, 10)\"}, \"name\": \"Female\", \"orientation\": \"h\", \"type\": \"bar\", \"x\": [null, -234054.0, -388100.0, -315360.0, -346132.0, -347252.0, -292706.0, -393051.0], \"y\": [\"11-20\", \"21-30\", \"31-40\", \"41-50\", \"51-60\", \"61-70\", \"71-80\", \"81-90\"]}],\n",
       "                        {\"bargap\": 0.2, \"bargroupgap\": 0, \"barmode\": \"relative\", \"template\": {\"data\": {\"bar\": [{\"error_x\": {\"color\": \"#2a3f5f\"}, \"error_y\": {\"color\": \"#2a3f5f\"}, \"marker\": {\"line\": {\"color\": \"#E5ECF6\", \"width\": 0.5}}, \"type\": \"bar\"}], \"barpolar\": [{\"marker\": {\"line\": {\"color\": \"#E5ECF6\", \"width\": 0.5}}, \"type\": \"barpolar\"}], \"carpet\": [{\"aaxis\": {\"endlinecolor\": \"#2a3f5f\", \"gridcolor\": \"white\", \"linecolor\": \"white\", \"minorgridcolor\": \"white\", \"startlinecolor\": \"#2a3f5f\"}, \"baxis\": {\"endlinecolor\": \"#2a3f5f\", \"gridcolor\": \"white\", \"linecolor\": \"white\", \"minorgridcolor\": \"white\", \"startlinecolor\": \"#2a3f5f\"}, \"type\": \"carpet\"}], \"choropleth\": [{\"colorbar\": {\"outlinewidth\": 0, \"ticks\": \"\"}, \"type\": \"choropleth\"}], \"contour\": [{\"colorbar\": {\"outlinewidth\": 0, \"ticks\": \"\"}, \"colorscale\": [[0.0, \"#0d0887\"], [0.1111111111111111, \"#46039f\"], [0.2222222222222222, \"#7201a8\"], [0.3333333333333333, \"#9c179e\"], [0.4444444444444444, \"#bd3786\"], [0.5555555555555556, \"#d8576b\"], [0.6666666666666666, \"#ed7953\"], [0.7777777777777778, \"#fb9f3a\"], [0.8888888888888888, \"#fdca26\"], [1.0, \"#f0f921\"]], \"type\": \"contour\"}], \"contourcarpet\": [{\"colorbar\": {\"outlinewidth\": 0, \"ticks\": \"\"}, \"type\": \"contourcarpet\"}], \"heatmap\": [{\"colorbar\": {\"outlinewidth\": 0, \"ticks\": \"\"}, \"colorscale\": [[0.0, \"#0d0887\"], [0.1111111111111111, \"#46039f\"], [0.2222222222222222, \"#7201a8\"], [0.3333333333333333, \"#9c179e\"], [0.4444444444444444, \"#bd3786\"], [0.5555555555555556, \"#d8576b\"], [0.6666666666666666, \"#ed7953\"], [0.7777777777777778, \"#fb9f3a\"], [0.8888888888888888, \"#fdca26\"], [1.0, \"#f0f921\"]], \"type\": \"heatmap\"}], \"heatmapgl\": [{\"colorbar\": {\"outlinewidth\": 0, \"ticks\": \"\"}, \"colorscale\": [[0.0, \"#0d0887\"], [0.1111111111111111, \"#46039f\"], [0.2222222222222222, \"#7201a8\"], [0.3333333333333333, \"#9c179e\"], [0.4444444444444444, \"#bd3786\"], [0.5555555555555556, \"#d8576b\"], [0.6666666666666666, \"#ed7953\"], [0.7777777777777778, \"#fb9f3a\"], [0.8888888888888888, \"#fdca26\"], [1.0, \"#f0f921\"]], \"type\": \"heatmapgl\"}], \"histogram\": [{\"marker\": {\"colorbar\": {\"outlinewidth\": 0, \"ticks\": \"\"}}, \"type\": \"histogram\"}], \"histogram2d\": [{\"colorbar\": {\"outlinewidth\": 0, \"ticks\": \"\"}, \"colorscale\": [[0.0, \"#0d0887\"], [0.1111111111111111, \"#46039f\"], [0.2222222222222222, \"#7201a8\"], [0.3333333333333333, \"#9c179e\"], [0.4444444444444444, \"#bd3786\"], [0.5555555555555556, \"#d8576b\"], [0.6666666666666666, \"#ed7953\"], [0.7777777777777778, \"#fb9f3a\"], [0.8888888888888888, \"#fdca26\"], [1.0, \"#f0f921\"]], \"type\": \"histogram2d\"}], \"histogram2dcontour\": [{\"colorbar\": {\"outlinewidth\": 0, \"ticks\": \"\"}, \"colorscale\": [[0.0, \"#0d0887\"], [0.1111111111111111, \"#46039f\"], [0.2222222222222222, \"#7201a8\"], [0.3333333333333333, \"#9c179e\"], [0.4444444444444444, \"#bd3786\"], [0.5555555555555556, \"#d8576b\"], [0.6666666666666666, \"#ed7953\"], [0.7777777777777778, \"#fb9f3a\"], [0.8888888888888888, \"#fdca26\"], [1.0, \"#f0f921\"]], \"type\": \"histogram2dcontour\"}], \"mesh3d\": [{\"colorbar\": {\"outlinewidth\": 0, \"ticks\": \"\"}, \"type\": \"mesh3d\"}], \"parcoords\": [{\"line\": {\"colorbar\": {\"outlinewidth\": 0, \"ticks\": \"\"}}, \"type\": \"parcoords\"}], \"pie\": [{\"automargin\": true, \"type\": \"pie\"}], \"scatter\": [{\"marker\": {\"colorbar\": {\"outlinewidth\": 0, \"ticks\": \"\"}}, \"type\": \"scatter\"}], \"scatter3d\": [{\"line\": {\"colorbar\": {\"outlinewidth\": 0, \"ticks\": \"\"}}, \"marker\": {\"colorbar\": {\"outlinewidth\": 0, \"ticks\": \"\"}}, \"type\": \"scatter3d\"}], \"scattercarpet\": [{\"marker\": {\"colorbar\": {\"outlinewidth\": 0, \"ticks\": \"\"}}, \"type\": \"scattercarpet\"}], \"scattergeo\": [{\"marker\": {\"colorbar\": {\"outlinewidth\": 0, \"ticks\": \"\"}}, \"type\": \"scattergeo\"}], \"scattergl\": [{\"marker\": {\"colorbar\": {\"outlinewidth\": 0, \"ticks\": \"\"}}, \"type\": \"scattergl\"}], \"scattermapbox\": [{\"marker\": {\"colorbar\": {\"outlinewidth\": 0, \"ticks\": \"\"}}, \"type\": \"scattermapbox\"}], \"scatterpolar\": [{\"marker\": {\"colorbar\": {\"outlinewidth\": 0, \"ticks\": \"\"}}, \"type\": \"scatterpolar\"}], \"scatterpolargl\": [{\"marker\": {\"colorbar\": {\"outlinewidth\": 0, \"ticks\": \"\"}}, \"type\": \"scatterpolargl\"}], \"scatterternary\": [{\"marker\": {\"colorbar\": {\"outlinewidth\": 0, \"ticks\": \"\"}}, \"type\": \"scatterternary\"}], \"surface\": [{\"colorbar\": {\"outlinewidth\": 0, \"ticks\": \"\"}, \"colorscale\": [[0.0, \"#0d0887\"], [0.1111111111111111, \"#46039f\"], [0.2222222222222222, \"#7201a8\"], [0.3333333333333333, \"#9c179e\"], [0.4444444444444444, \"#bd3786\"], [0.5555555555555556, \"#d8576b\"], [0.6666666666666666, \"#ed7953\"], [0.7777777777777778, \"#fb9f3a\"], [0.8888888888888888, \"#fdca26\"], [1.0, \"#f0f921\"]], \"type\": \"surface\"}], \"table\": [{\"cells\": {\"fill\": {\"color\": \"#EBF0F8\"}, \"line\": {\"color\": \"white\"}}, \"header\": {\"fill\": {\"color\": \"#C8D4E3\"}, \"line\": {\"color\": \"white\"}}, \"type\": \"table\"}]}, \"layout\": {\"annotationdefaults\": {\"arrowcolor\": \"#2a3f5f\", \"arrowhead\": 0, \"arrowwidth\": 1}, \"coloraxis\": {\"colorbar\": {\"outlinewidth\": 0, \"ticks\": \"\"}}, \"colorscale\": {\"diverging\": [[0, \"#8e0152\"], [0.1, \"#c51b7d\"], [0.2, \"#de77ae\"], [0.3, \"#f1b6da\"], [0.4, \"#fde0ef\"], [0.5, \"#f7f7f7\"], [0.6, \"#e6f5d0\"], [0.7, \"#b8e186\"], [0.8, \"#7fbc41\"], [0.9, \"#4d9221\"], [1, \"#276419\"]], \"sequential\": [[0.0, \"#0d0887\"], [0.1111111111111111, \"#46039f\"], [0.2222222222222222, \"#7201a8\"], [0.3333333333333333, \"#9c179e\"], [0.4444444444444444, \"#bd3786\"], [0.5555555555555556, \"#d8576b\"], [0.6666666666666666, \"#ed7953\"], [0.7777777777777778, \"#fb9f3a\"], [0.8888888888888888, \"#fdca26\"], [1.0, \"#f0f921\"]], \"sequentialminus\": [[0.0, \"#0d0887\"], [0.1111111111111111, \"#46039f\"], [0.2222222222222222, \"#7201a8\"], [0.3333333333333333, \"#9c179e\"], [0.4444444444444444, \"#bd3786\"], [0.5555555555555556, \"#d8576b\"], [0.6666666666666666, \"#ed7953\"], [0.7777777777777778, \"#fb9f3a\"], [0.8888888888888888, \"#fdca26\"], [1.0, \"#f0f921\"]]}, \"colorway\": [\"#636efa\", \"#EF553B\", \"#00cc96\", \"#ab63fa\", \"#FFA15A\", \"#19d3f3\", \"#FF6692\", \"#B6E880\", \"#FF97FF\", \"#FECB52\"], \"font\": {\"color\": \"#2a3f5f\"}, \"geo\": {\"bgcolor\": \"white\", \"lakecolor\": \"white\", \"landcolor\": \"#E5ECF6\", \"showlakes\": true, \"showland\": true, \"subunitcolor\": \"white\"}, \"hoverlabel\": {\"align\": \"left\"}, \"hovermode\": \"closest\", \"mapbox\": {\"style\": \"light\"}, \"paper_bgcolor\": \"white\", \"plot_bgcolor\": \"#E5ECF6\", \"polar\": {\"angularaxis\": {\"gridcolor\": \"white\", \"linecolor\": \"white\", \"ticks\": \"\"}, \"bgcolor\": \"#E5ECF6\", \"radialaxis\": {\"gridcolor\": \"white\", \"linecolor\": \"white\", \"ticks\": \"\"}}, \"scene\": {\"xaxis\": {\"backgroundcolor\": \"#E5ECF6\", \"gridcolor\": \"white\", \"gridwidth\": 2, \"linecolor\": \"white\", \"showbackground\": true, \"ticks\": \"\", \"zerolinecolor\": \"white\"}, \"yaxis\": {\"backgroundcolor\": \"#E5ECF6\", \"gridcolor\": \"white\", \"gridwidth\": 2, \"linecolor\": \"white\", \"showbackground\": true, \"ticks\": \"\", \"zerolinecolor\": \"white\"}, \"zaxis\": {\"backgroundcolor\": \"#E5ECF6\", \"gridcolor\": \"white\", \"gridwidth\": 2, \"linecolor\": \"white\", \"showbackground\": true, \"ticks\": \"\", \"zerolinecolor\": \"white\"}}, \"shapedefaults\": {\"line\": {\"color\": \"#2a3f5f\"}}, \"ternary\": {\"aaxis\": {\"gridcolor\": \"white\", \"linecolor\": \"white\", \"ticks\": \"\"}, \"baxis\": {\"gridcolor\": \"white\", \"linecolor\": \"white\", \"ticks\": \"\"}, \"bgcolor\": \"#E5ECF6\", \"caxis\": {\"gridcolor\": \"white\", \"linecolor\": \"white\", \"ticks\": \"\"}}, \"title\": {\"x\": 0.05}, \"xaxis\": {\"automargin\": true, \"gridcolor\": \"white\", \"linecolor\": \"white\", \"ticks\": \"\", \"title\": {\"standoff\": 15}, \"zerolinecolor\": \"white\", \"zerolinewidth\": 2}, \"yaxis\": {\"automargin\": true, \"gridcolor\": \"white\", \"linecolor\": \"white\", \"ticks\": \"\", \"title\": {\"standoff\": 15}, \"zerolinecolor\": \"white\", \"zerolinewidth\": 2}}}, \"title\": {\"font\": {\"size\": 22}, \"text\": \"Average Policy Value Between Various Demographics\"}, \"xaxis\": {\"ticktext\": [\"400K\", \"300K\", \"200K\", \"100K\", \"0\", \"100K\", \"200K\", \"300K\", \"400K\"], \"tickvals\": [-400000, -300000, -200000, -100000, 0, 100000, 200000, 300000, 400000], \"title\": {\"font\": {\"size\": 14}, \"text\": \"Policy Value in Thousands\"}}, \"yaxis\": {\"title\": {\"text\": \"Age Group\"}}},\n",
       "                        {\"responsive\": true}\n",
       "                    ).then(function(){\n",
       "                            \n",
       "var gd = document.getElementById('5550316b-438b-4f87-b159-34d0b3c7a072');\n",
       "var x = new MutationObserver(function (mutations, observer) {{\n",
       "        var display = window.getComputedStyle(gd).display;\n",
       "        if (!display || display === 'none') {{\n",
       "            console.log([gd, 'removed!']);\n",
       "            Plotly.purge(gd);\n",
       "            observer.disconnect();\n",
       "        }}\n",
       "}});\n",
       "\n",
       "// Listen for the removal of the full notebook cells\n",
       "var notebookContainer = gd.closest('#notebook-container');\n",
       "if (notebookContainer) {{\n",
       "    x.observe(notebookContainer, {childList: true});\n",
       "}}\n",
       "\n",
       "// Listen for the clearing of the current output cell\n",
       "var outputEl = gd.closest('.output');\n",
       "if (outputEl) {{\n",
       "    x.observe(outputEl, {childList: true});\n",
       "}}\n",
       "\n",
       "                        })\n",
       "                };\n",
       "                });\n",
       "            </script>\n",
       "        </div>"
      ]
     },
     "metadata": {},
     "output_type": "display_data"
    }
   ],
   "source": [
    "# Insert your answer below: \n",
    "\n",
    "import numpy as np\n",
    "import pandas as pd\n",
    "import sqlite3\n",
    "import plotly.graph_objects as gp\n",
    "\n",
    "Customer_Table = pd.read_sql('SELECT * FROM Customer_Table', conn)\n",
    "Policy_Table = pd.read_sql('SELECT * FROM Policy_Table', conn)\n",
    "Fund_Table = pd.read_sql('SELECT * FROM Fund_Table', conn)\n",
    "\n",
    "# Establish DB connection\n",
    "conn = sqlite3.connect('Prudential_Data.db')\n",
    "\n",
    "df_policy = pd.DataFrame(Policy_Table)\n",
    "df_cust = pd.DataFrame(Customer_Table)\n",
    "\n",
    "# Outer Join to Merge Tables\n",
    "df = pd.merge(df_policy,df_cust,on='Customer ID',how='outer')\n",
    "\n",
    "#print(df.describe())\n",
    "\n",
    "conditions = [\n",
    "            (df['Age'] < 11), (df['Age'] < 21), (df['Age'] < 31), (df['Age'] < 41),\n",
    "            (df['Age'] < 51), (df['Age'] < 61), (df['Age'] < 71), (df['Age'] < 81),\n",
    "            (df['Age'] < 91), (df['Age'] < 101), (df['Age'] > 100)\n",
    "            ]\n",
    "\n",
    "categories = ['0-10', '11-20', '21-30','31-40', \n",
    "              '41-50', '51-60', '61-70', '71-80',\n",
    "              '81-90', '91-100', '>100']\n",
    "\n",
    "df['Age_Cat'] = np.select(condlist=conditions, choicelist=categories)\n",
    "\n",
    "df = df.groupby(['Age_Cat','Gender']).mean().squeeze().unstack().reset_index()\n",
    "df = df[['Age_Cat', 'Policy Value']]\n",
    "\n",
    "df = df.round(decimals=0)\n",
    "\n",
    "df.columns = ['Age_Category', 'Avg_Policy_Value_Female', 'Avg_Policy_Value_Male']\n",
    "\n",
    "print (df)\n",
    "print (df.describe().round(decimals=0))\n",
    "\n",
    "data = df\n",
    "\n",
    "y_age = data['Age_Category']\n",
    "x_M = data['Avg_Policy_Value_Male']\n",
    "x_F = data['Avg_Policy_Value_Female'] * -1\n",
    "\n",
    "# Creating instance of the figure\n",
    "fig = gp.Figure()\n",
    "\n",
    "# Adding Male data to the figure\n",
    "fig.add_trace(gp.Bar(y = y_age, x = x_M, name = 'Male', orientation = 'h', marker_color = \"rgb(0, 92, 98)\"))\n",
    "\n",
    "# Adding Female data to the figure\n",
    "fig.add_trace(gp.Bar(y = y_age, x = x_F, name = 'Female', orientation = 'h', marker_color = \"rgb(258, 78, 10)\"))\n",
    "\n",
    "# Updating the layout for our graph\n",
    "fig.update_layout(\n",
    "    title = 'Average Policy Value Between Various Demographics',\n",
    "    title_font_size = 22, \n",
    "    barmode = 'relative', \n",
    "    bargap = 0.2,\n",
    "    bargroupgap = 0, \n",
    "    xaxis = dict(tickvals = [-400000, -300000, -200000, -100000, 0, 100000, 200000, 300000, 400000],\n",
    "    ticktext = ['400K', '300K', '200K', '100K', '0','100K', '200K', '300K', '400K'],\n",
    "    title = 'Policy Value in Thousands',\n",
    "    title_font_size = 14),\n",
    "    yaxis={'title': 'Age Group'})\n",
    "\n",
    "fig.show()\n",
    "\n",
    "## COMMENTS ##\n",
    "\n",
    "# This gives us both of the demographic variables in single chart to analysis Policy Value\n",
    "# It is easy to compare average policy value for males at a certain age with the corresponding figures for female\n",
    "# There is equal distribution of policy value across all ages for males while the same is not true for females.\n",
    "# Policy Value is lowest for females under 30\n",
    "# There can be a huge potential among under 30 females in order to get more poicies\n",
    "# Average policy value for females over 80 is 40% more than males of this age"
   ]
  },
  {
   "cell_type": "code",
   "execution_count": null,
   "metadata": {},
   "outputs": [],
   "source": []
  }
 ],
 "metadata": {
  "celltoolbar": "Raw Cell Format",
  "kernelspec": {
   "display_name": "Python 3",
   "language": "python",
   "name": "python3"
  },
  "language_info": {
   "codemirror_mode": {
    "name": "ipython",
    "version": 3
   },
   "file_extension": ".py",
   "mimetype": "text/x-python",
   "name": "python",
   "nbconvert_exporter": "python",
   "pygments_lexer": "ipython3",
   "version": "3.6.4"
  },
  "toc": {
   "colors": {
    "hover_highlight": "#DAA520",
    "running_highlight": "#FF0000",
    "selected_highlight": "#FFD700"
   },
   "moveMenuLeft": true,
   "nav_menu": {},
   "navigate_menu": true,
   "number_sections": true,
   "sideBar": true,
   "skip_h1_title": false,
   "threshold": 4,
   "toc_cell": false,
   "toc_position": {
    "height": "977px",
    "left": "0px",
    "right": "1457.01px",
    "top": "107px",
    "width": "214px"
   },
   "toc_section_display": "block",
   "toc_window_display": true
  }
 },
 "nbformat": 4,
 "nbformat_minor": 1
}
